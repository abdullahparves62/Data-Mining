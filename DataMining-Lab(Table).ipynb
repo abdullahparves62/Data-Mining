{
 "cells": [
  {
   "cell_type": "code",
   "execution_count": 36,
   "id": "954280ec",
   "metadata": {},
   "outputs": [],
   "source": [
    "import pandas as pd"
   ]
  },
  {
   "cell_type": "code",
   "execution_count": 37,
   "id": "df5a9a2c",
   "metadata": {},
   "outputs": [],
   "source": [
    "df=pd.read_csv(\"dataset_review.csv - dataset_review.csv.csv\")"
   ]
  },
  {
   "cell_type": "code",
   "execution_count": 38,
   "id": "4d4ab006",
   "metadata": {},
   "outputs": [
    {
     "data": {
      "text/html": [
       "<div>\n",
       "<style scoped>\n",
       "    .dataframe tbody tr th:only-of-type {\n",
       "        vertical-align: middle;\n",
       "    }\n",
       "\n",
       "    .dataframe tbody tr th {\n",
       "        vertical-align: top;\n",
       "    }\n",
       "\n",
       "    .dataframe thead th {\n",
       "        text-align: right;\n",
       "    }\n",
       "</style>\n",
       "<table border=\"1\" class=\"dataframe\">\n",
       "  <thead>\n",
       "    <tr style=\"text-align: right;\">\n",
       "      <th></th>\n",
       "      <th>Book</th>\n",
       "      <th>p1</th>\n",
       "      <th>p2</th>\n",
       "      <th>p3</th>\n",
       "      <th>p4</th>\n",
       "      <th>p5</th>\n",
       "      <th>p6</th>\n",
       "      <th>p7</th>\n",
       "      <th>p8</th>\n",
       "    </tr>\n",
       "  </thead>\n",
       "  <tbody>\n",
       "    <tr>\n",
       "      <th>0</th>\n",
       "      <td>book1</td>\n",
       "      <td>3.5</td>\n",
       "      <td>2</td>\n",
       "      <td>5</td>\n",
       "      <td>3</td>\n",
       "      <td>-</td>\n",
       "      <td>-</td>\n",
       "      <td>5</td>\n",
       "      <td>3</td>\n",
       "    </tr>\n",
       "    <tr>\n",
       "      <th>1</th>\n",
       "      <td>book2</td>\n",
       "      <td>2</td>\n",
       "      <td>3.5</td>\n",
       "      <td>1</td>\n",
       "      <td>4</td>\n",
       "      <td>4</td>\n",
       "      <td>4.5</td>\n",
       "      <td>2</td>\n",
       "      <td>-</td>\n",
       "    </tr>\n",
       "    <tr>\n",
       "      <th>2</th>\n",
       "      <td>book3</td>\n",
       "      <td>-</td>\n",
       "      <td>4</td>\n",
       "      <td>1</td>\n",
       "      <td>4.5</td>\n",
       "      <td>1</td>\n",
       "      <td>4</td>\n",
       "      <td>-</td>\n",
       "      <td>-</td>\n",
       "    </tr>\n",
       "  </tbody>\n",
       "</table>\n",
       "</div>"
      ],
      "text/plain": [
       "    Book   p1   p2 p3   p4 p5   p6 p7 p8\n",
       "0  book1  3.5    2  5    3  -    -  5  3\n",
       "1  book2    2  3.5  1    4  4  4.5  2  -\n",
       "2  book3    -    4  1  4.5  1    4  -  -"
      ]
     },
     "execution_count": 38,
     "metadata": {},
     "output_type": "execute_result"
    }
   ],
   "source": [
    "df.head(3)"
   ]
  },
  {
   "cell_type": "code",
   "execution_count": 39,
   "id": "84848e3f",
   "metadata": {},
   "outputs": [
    {
     "data": {
      "text/html": [
       "<div>\n",
       "<style scoped>\n",
       "    .dataframe tbody tr th:only-of-type {\n",
       "        vertical-align: middle;\n",
       "    }\n",
       "\n",
       "    .dataframe tbody tr th {\n",
       "        vertical-align: top;\n",
       "    }\n",
       "\n",
       "    .dataframe thead th {\n",
       "        text-align: right;\n",
       "    }\n",
       "</style>\n",
       "<table border=\"1\" class=\"dataframe\">\n",
       "  <thead>\n",
       "    <tr style=\"text-align: right;\">\n",
       "      <th></th>\n",
       "      <th>Book</th>\n",
       "      <th>p1</th>\n",
       "      <th>p2</th>\n",
       "      <th>p3</th>\n",
       "      <th>p4</th>\n",
       "      <th>p5</th>\n",
       "      <th>p6</th>\n",
       "      <th>p7</th>\n",
       "      <th>p8</th>\n",
       "    </tr>\n",
       "  </thead>\n",
       "  <tbody>\n",
       "    <tr>\n",
       "      <th>5</th>\n",
       "      <td>book6</td>\n",
       "      <td>1.5</td>\n",
       "      <td>3.5</td>\n",
       "      <td>1</td>\n",
       "      <td>4.5</td>\n",
       "      <td>-</td>\n",
       "      <td>4.5</td>\n",
       "      <td>4</td>\n",
       "      <td>2.5</td>\n",
       "    </tr>\n",
       "    <tr>\n",
       "      <th>6</th>\n",
       "      <td>book7</td>\n",
       "      <td>2.5</td>\n",
       "      <td>-</td>\n",
       "      <td>-</td>\n",
       "      <td>4</td>\n",
       "      <td>4</td>\n",
       "      <td>4</td>\n",
       "      <td>5</td>\n",
       "      <td>3</td>\n",
       "    </tr>\n",
       "    <tr>\n",
       "      <th>7</th>\n",
       "      <td>book8</td>\n",
       "      <td>2</td>\n",
       "      <td>3</td>\n",
       "      <td>-</td>\n",
       "      <td>2</td>\n",
       "      <td>1</td>\n",
       "      <td>4</td>\n",
       "      <td>-</td>\n",
       "      <td>-</td>\n",
       "    </tr>\n",
       "  </tbody>\n",
       "</table>\n",
       "</div>"
      ],
      "text/plain": [
       "    Book   p1   p2 p3   p4 p5   p6 p7   p8\n",
       "5  book6  1.5  3.5  1  4.5  -  4.5  4  2.5\n",
       "6  book7  2.5    -  -    4  4    4  5    3\n",
       "7  book8    2    3  -    2  1    4  -    -"
      ]
     },
     "execution_count": 39,
     "metadata": {},
     "output_type": "execute_result"
    }
   ],
   "source": [
    "df.tail(3)"
   ]
  },
  {
   "cell_type": "code",
   "execution_count": 40,
   "id": "891e96ed",
   "metadata": {},
   "outputs": [
    {
     "name": "stdout",
     "output_type": "stream",
     "text": [
      "Index(['Book', 'p1', 'p2', 'p3', 'p4', 'p5', 'p6', 'p7', 'p8'], dtype='object')\n"
     ]
    }
   ],
   "source": [
    "print(df.columns)"
   ]
  },
  {
   "cell_type": "code",
   "execution_count": 41,
   "id": "5b427e43",
   "metadata": {},
   "outputs": [
    {
     "name": "stdout",
     "output_type": "stream",
     "text": [
      "Book    object\n",
      "p1      object\n",
      "p2      object\n",
      "p3      object\n",
      "p4      object\n",
      "p5      object\n",
      "p6      object\n",
      "p7      object\n",
      "p8      object\n",
      "dtype: object\n"
     ]
    }
   ],
   "source": [
    "print(df.dtypes)"
   ]
  },
  {
   "cell_type": "code",
   "execution_count": 42,
   "id": "b31d10c0",
   "metadata": {},
   "outputs": [
    {
     "name": "stdout",
     "output_type": "stream",
     "text": [
      "    Book   p1   p2 p3   p4 p5   p6 p7   p8\n",
      "0  book1  3.5    2  5    3  -    -  5    3\n",
      "1  book2    2  3.5  1    4  4  4.5  2    -\n",
      "2  book3    -    4  1  4.5  1    4  -    -\n",
      "3  book4  4.5    -  3    -  4    5  3    5\n",
      "4  book5    5    2  5    3  -    5  5    4\n",
      "5  book6  1.5  3.5  1  4.5  -  4.5  4  2.5\n",
      "6  book7  2.5    -  -    4  4    4  5    3\n",
      "7  book8    2    3  -    2  1    4  -    -\n"
     ]
    }
   ],
   "source": [
    "print(df)"
   ]
  },
  {
   "cell_type": "code",
   "execution_count": 43,
   "id": "d6b1646d",
   "metadata": {},
   "outputs": [],
   "source": [
    "df_subset=df.replace('-',float('Nan'))"
   ]
  },
  {
   "cell_type": "code",
   "execution_count": 44,
   "id": "5030554f",
   "metadata": {},
   "outputs": [
    {
     "name": "stdout",
     "output_type": "stream",
     "text": [
      "    Book   p1   p2   p3   p4   p5   p6   p7   p8\n",
      "0  book1  3.5    2    5    3  NaN  NaN    5    3\n",
      "1  book2    2  3.5    1    4    4  4.5    2  NaN\n",
      "2  book3  NaN    4    1  4.5    1    4  NaN  NaN\n",
      "3  book4  4.5  NaN    3  NaN    4    5    3    5\n",
      "4  book5    5    2    5    3  NaN    5    5    4\n",
      "5  book6  1.5  3.5    1  4.5  NaN  4.5    4  2.5\n",
      "6  book7  2.5  NaN  NaN    4    4    4    5    3\n",
      "7  book8    2    3  NaN    2    1    4  NaN  NaN\n"
     ]
    }
   ],
   "source": [
    "print(df_subset)"
   ]
  },
  {
   "cell_type": "code",
   "execution_count": 45,
   "id": "a30f96e9",
   "metadata": {},
   "outputs": [],
   "source": [
    "#print(df_subset.dropna())"
   ]
  },
  {
   "cell_type": "code",
   "execution_count": 46,
   "id": "04133bda",
   "metadata": {},
   "outputs": [],
   "source": [
    "df2=df_subset[df_subset[\"p1\"].notnull()]"
   ]
  },
  {
   "cell_type": "code",
   "execution_count": 47,
   "id": "c822a190",
   "metadata": {},
   "outputs": [
    {
     "name": "stdout",
     "output_type": "stream",
     "text": [
      "    Book   p1   p2   p3   p4   p5   p6   p7   p8\n",
      "0  book1  3.5    2    5    3  NaN  NaN    5    3\n",
      "1  book2    2  3.5    1    4    4  4.5    2  NaN\n",
      "3  book4  4.5  NaN    3  NaN    4    5    3    5\n",
      "4  book5    5    2    5    3  NaN    5    5    4\n",
      "5  book6  1.5  3.5    1  4.5  NaN  4.5    4  2.5\n",
      "6  book7  2.5  NaN  NaN    4    4    4    5    3\n",
      "7  book8    2    3  NaN    2    1    4  NaN  NaN\n"
     ]
    }
   ],
   "source": [
    "print(df2)"
   ]
  },
  {
   "cell_type": "code",
   "execution_count": 48,
   "id": "3bc0457a",
   "metadata": {},
   "outputs": [],
   "source": [
    "df2=df2[df2[\"p2\"].notnull()]"
   ]
  },
  {
   "cell_type": "code",
   "execution_count": 49,
   "id": "6052f8bd",
   "metadata": {},
   "outputs": [
    {
     "name": "stdout",
     "output_type": "stream",
     "text": [
      "    Book   p1   p2   p3   p4   p5   p6   p7   p8\n",
      "0  book1  3.5    2    5    3  NaN  NaN    5    3\n",
      "1  book2    2  3.5    1    4    4  4.5    2  NaN\n",
      "4  book5    5    2    5    3  NaN    5    5    4\n",
      "5  book6  1.5  3.5    1  4.5  NaN  4.5    4  2.5\n",
      "7  book8    2    3  NaN    2    1    4  NaN  NaN\n"
     ]
    }
   ],
   "source": [
    "print(df2)"
   ]
  },
  {
   "cell_type": "code",
   "execution_count": 50,
   "id": "27ce49cf",
   "metadata": {},
   "outputs": [
    {
     "name": "stdout",
     "output_type": "stream",
     "text": [
      "Requirement already satisfied: matplotlib in c:\\users\\parves\\anaconda3\\lib\\site-packages (3.3.4)\n",
      "Requirement already satisfied: numpy>=1.15 in c:\\users\\parves\\anaconda3\\lib\\site-packages (from matplotlib) (1.20.1)\n",
      "Requirement already satisfied: cycler>=0.10 in c:\\users\\parves\\anaconda3\\lib\\site-packages (from matplotlib) (0.10.0)\n",
      "Requirement already satisfied: pillow>=6.2.0 in c:\\users\\parves\\anaconda3\\lib\\site-packages (from matplotlib) (8.2.0)\n",
      "Requirement already satisfied: pyparsing!=2.0.4,!=2.1.2,!=2.1.6,>=2.0.3 in c:\\users\\parves\\anaconda3\\lib\\site-packages (from matplotlib) (2.4.7)\n",
      "Requirement already satisfied: kiwisolver>=1.0.1 in c:\\users\\parves\\anaconda3\\lib\\site-packages (from matplotlib) (1.3.1)\n",
      "Requirement already satisfied: python-dateutil>=2.1 in c:\\users\\parves\\anaconda3\\lib\\site-packages (from matplotlib) (2.8.1)\n",
      "Requirement already satisfied: six in c:\\users\\parves\\anaconda3\\lib\\site-packages (from cycler>=0.10->matplotlib) (1.15.0)\n",
      "Note: you may need to restart the kernel to use updated packages.\n"
     ]
    }
   ],
   "source": [
    "pip install matplotlib"
   ]
  },
  {
   "cell_type": "code",
   "execution_count": 51,
   "id": "1628fdcb",
   "metadata": {},
   "outputs": [
    {
     "data": {
      "image/png": "[encoded data removed]",
      "text/plain": [
       "<Figure size 432x288 with 1 Axes>"
      ]
     },
     "metadata": {
      "needs_background": "light"
     },
     "output_type": "display_data"
    }
   ],
   "source": [
    "import matplotlib.pyplot as plt\n",
    "plt.boxplot(df2['p1'].astype(float))\n",
    "#plt.boxplot(df2['p2'].astype(float))\n",
    "#show plot\n",
    "plt.show()"
   ]
  },
  {
   "cell_type": "code",
   "execution_count": 52,
   "id": "d7e6494d",
   "metadata": {},
   "outputs": [
    {
     "data": {
      "image/png": "[encoded data removed]",
      "text/plain": [
       "<Figure size 432x288 with 1 Axes>"
      ]
     },
     "metadata": {
      "needs_background": "light"
     },
     "output_type": "display_data"
    }
   ],
   "source": [
    "import matplotlib.pyplot as plt\n",
    "#plt.boxplot(df2['p1'].astype(float))\n",
    "plt.boxplot(df2['p2'].astype(float))\n",
    "#show plot\n",
    "plt.show()"
   ]
  },
  {
   "cell_type": "code",
   "execution_count": 53,
   "id": "f76c8fdb",
   "metadata": {},
   "outputs": [],
   "source": [
    "from scipy.spatial import distance"
   ]
  },
  {
   "cell_type": "code",
   "execution_count": 54,
   "id": "0f396d3e",
   "metadata": {},
   "outputs": [],
   "source": [
    "from scipy.spatial.distance import cityblock"
   ]
  },
  {
   "cell_type": "code",
   "execution_count": 55,
   "id": "b91ed830",
   "metadata": {},
   "outputs": [],
   "source": [
    "manhattan_distance1=distance.cityblock(df2['p1'].astype(float),df2['p2'].astype(float))"
   ]
  },
  {
   "cell_type": "code",
   "execution_count": 56,
   "id": "f55effc1",
   "metadata": {},
   "outputs": [
    {
     "name": "stdout",
     "output_type": "stream",
     "text": [
      "9.0\n"
     ]
    }
   ],
   "source": [
    "print(manhattan_distance1)"
   ]
  },
  {
   "cell_type": "code",
   "execution_count": 57,
   "id": "9227e972",
   "metadata": {},
   "outputs": [],
   "source": [
    "euclidean_distance1=distance.euclidean(df2['p1'].astype(float),df2['p2'].astype(float))"
   ]
  },
  {
   "cell_type": "code",
   "execution_count": 58,
   "id": "d14e74a4",
   "metadata": {},
   "outputs": [
    {
     "name": "stdout",
     "output_type": "stream",
     "text": [
      "4.301162633521313\n"
     ]
    }
   ],
   "source": [
    "print(euclidean_distance1)"
   ]
  },
  {
   "cell_type": "code",
   "execution_count": 59,
   "id": "70fe44b6",
   "metadata": {},
   "outputs": [
    {
     "data": {
      "text/plain": [
       "9.0"
      ]
     },
     "execution_count": 59,
     "metadata": {},
     "output_type": "execute_result"
    }
   ],
   "source": [
    "minkowski_distance1=distance.minkowski(df2['p1'].astype(float),df2['p2'].astype(float),p=1)\n",
    "minkowski_distance1"
   ]
  },
  {
   "cell_type": "code",
   "execution_count": 60,
   "id": "2db7bf42",
   "metadata": {},
   "outputs": [
    {
     "data": {
      "text/plain": [
       "4.301162633521313"
      ]
     },
     "execution_count": 60,
     "metadata": {},
     "output_type": "execute_result"
    }
   ],
   "source": [
    "minkowski_distance1=distance.minkowski(df2['p1'].astype(float),df2['p2'].astype(float),p=2)\n",
    "minkowski_distance1"
   ]
  },
  {
   "cell_type": "code",
   "execution_count": 61,
   "id": "4924e748",
   "metadata": {},
   "outputs": [
    {
     "data": {
      "text/plain": [
       "4.301162633521313"
      ]
     },
     "execution_count": 61,
     "metadata": {},
     "output_type": "execute_result"
    }
   ],
   "source": [
    "minkowski_distance1=distance.minkowski(df2['p1'].astype(float),df2['p2'].astype(float),p=2)\n",
    "minkowski_distance1"
   ]
  },
  {
   "cell_type": "code",
   "execution_count": 62,
   "id": "94826e5c",
   "metadata": {},
   "outputs": [
    {
     "name": "stdout",
     "output_type": "stream",
     "text": [
      "    Book   p1   p2   p3   p4   p5   p6   p7   p8\n",
      "0  book1  3.5    2    5    3  NaN  NaN    5    3\n",
      "1  book2    2  3.5    1    4    4  4.5    2  NaN\n",
      "2  book3  NaN    4    1  4.5    1    4  NaN  NaN\n",
      "3  book4  4.5  NaN    3  NaN    4    5    3    5\n",
      "4  book5    5    2    5    3  NaN    5    5    4\n",
      "5  book6  1.5  3.5    1  4.5  NaN  4.5    4  2.5\n",
      "6  book7  2.5  NaN  NaN    4    4    4    5    3\n",
      "7  book8    2    3  NaN    2    1    4  NaN  NaN\n"
     ]
    }
   ],
   "source": [
    "print(df_subset)"
   ]
  },
  {
   "cell_type": "code",
   "execution_count": 63,
   "id": "d4395714",
   "metadata": {},
   "outputs": [],
   "source": [
    "df2=df_subset[df_subset[\"p1\"].notnull()]"
   ]
  },
  {
   "cell_type": "code",
   "execution_count": 64,
   "id": "51ff258c",
   "metadata": {},
   "outputs": [
    {
     "name": "stdout",
     "output_type": "stream",
     "text": [
      "    Book   p1   p2   p3   p4   p5   p6   p7   p8\n",
      "0  book1  3.5    2    5    3  NaN  NaN    5    3\n",
      "1  book2    2  3.5    1    4    4  4.5    2  NaN\n",
      "3  book4  4.5  NaN    3  NaN    4    5    3    5\n",
      "4  book5    5    2    5    3  NaN    5    5    4\n",
      "5  book6  1.5  3.5    1  4.5  NaN  4.5    4  2.5\n",
      "6  book7  2.5  NaN  NaN    4    4    4    5    3\n",
      "7  book8    2    3  NaN    2    1    4  NaN  NaN\n"
     ]
    }
   ],
   "source": [
    "print(df2)"
   ]
  },
  {
   "cell_type": "code",
   "execution_count": 65,
   "id": "9c89cfa5",
   "metadata": {},
   "outputs": [],
   "source": [
    "df2=df2[df2[\"p3\"].notnull()]"
   ]
  },
  {
   "cell_type": "code",
   "execution_count": 66,
   "id": "5c1deb3d",
   "metadata": {},
   "outputs": [
    {
     "name": "stdout",
     "output_type": "stream",
     "text": [
      "    Book   p1   p2 p3   p4   p5   p6 p7   p8\n",
      "0  book1  3.5    2  5    3  NaN  NaN  5    3\n",
      "1  book2    2  3.5  1    4    4  4.5  2  NaN\n",
      "3  book4  4.5  NaN  3  NaN    4    5  3    5\n",
      "4  book5    5    2  5    3  NaN    5  5    4\n",
      "5  book6  1.5  3.5  1  4.5  NaN  4.5  4  2.5\n"
     ]
    }
   ],
   "source": [
    "print(df2)"
   ]
  },
  {
   "cell_type": "code",
   "execution_count": 67,
   "id": "365f85e0",
   "metadata": {},
   "outputs": [],
   "source": [
    "manhattan_distance2=distance.cityblock(df2['p1'].astype(float),df2['p3'].astype(float))"
   ]
  },
  {
   "cell_type": "code",
   "execution_count": 68,
   "id": "d81708b9",
   "metadata": {},
   "outputs": [
    {
     "name": "stdout",
     "output_type": "stream",
     "text": [
      "4.5\n"
     ]
    }
   ],
   "source": [
    "print(manhattan_distance2)"
   ]
  },
  {
   "cell_type": "code",
   "execution_count": 69,
   "id": "3be37dc2",
   "metadata": {},
   "outputs": [],
   "source": [
    "euclidean_distance2=distance.euclidean(df2['p1'].astype(float),df2['p3'].astype(float))"
   ]
  },
  {
   "cell_type": "code",
   "execution_count": 70,
   "id": "ae22ce59",
   "metadata": {},
   "outputs": [
    {
     "name": "stdout",
     "output_type": "stream",
     "text": [
      "2.3979157616563596\n"
     ]
    }
   ],
   "source": [
    "print(euclidean_distance2)"
   ]
  },
  {
   "cell_type": "code",
   "execution_count": 72,
   "id": "ef726b43",
   "metadata": {},
   "outputs": [
    {
     "data": {
      "text/plain": [
       "2.3979157616563596"
      ]
     },
     "execution_count": 72,
     "metadata": {},
     "output_type": "execute_result"
    }
   ],
   "source": [
    "minkowski_distance2=distance.minkowski(df2['p1'].astype(float),df2['p3'].astype(float),p=2)\n",
    "minkowski_distance2"
   ]
  },
  {
   "cell_type": "code",
   "execution_count": 73,
   "id": "3eb479f5",
   "metadata": {},
   "outputs": [
    {
     "name": "stdout",
     "output_type": "stream",
     "text": [
      "    Book   p1   p2   p3   p4   p5   p6   p7   p8\n",
      "0  book1  3.5    2    5    3  NaN  NaN    5    3\n",
      "1  book2    2  3.5    1    4    4  4.5    2  NaN\n",
      "2  book3  NaN    4    1  4.5    1    4  NaN  NaN\n",
      "3  book4  4.5  NaN    3  NaN    4    5    3    5\n",
      "4  book5    5    2    5    3  NaN    5    5    4\n",
      "5  book6  1.5  3.5    1  4.5  NaN  4.5    4  2.5\n",
      "6  book7  2.5  NaN  NaN    4    4    4    5    3\n",
      "7  book8    2    3  NaN    2    1    4  NaN  NaN\n"
     ]
    }
   ],
   "source": [
    "print(df_subset)"
   ]
  },
  {
   "cell_type": "code",
   "execution_count": 74,
   "id": "e004bc1b",
   "metadata": {},
   "outputs": [],
   "source": [
    "df2=df_subset[df_subset[\"p1\"].notnull()]"
   ]
  },
  {
   "cell_type": "code",
   "execution_count": 75,
   "id": "84d8d53e",
   "metadata": {},
   "outputs": [
    {
     "name": "stdout",
     "output_type": "stream",
     "text": [
      "    Book   p1   p2   p3   p4   p5   p6   p7   p8\n",
      "0  book1  3.5    2    5    3  NaN  NaN    5    3\n",
      "1  book2    2  3.5    1    4    4  4.5    2  NaN\n",
      "3  book4  4.5  NaN    3  NaN    4    5    3    5\n",
      "4  book5    5    2    5    3  NaN    5    5    4\n",
      "5  book6  1.5  3.5    1  4.5  NaN  4.5    4  2.5\n",
      "6  book7  2.5  NaN  NaN    4    4    4    5    3\n",
      "7  book8    2    3  NaN    2    1    4  NaN  NaN\n"
     ]
    }
   ],
   "source": [
    "print(df2)"
   ]
  },
  {
   "cell_type": "code",
   "execution_count": 76,
   "id": "c7a6c588",
   "metadata": {},
   "outputs": [],
   "source": [
    "df2=df2[df2[\"p4\"].notnull()]"
   ]
  },
  {
   "cell_type": "code",
   "execution_count": 77,
   "id": "8d7ce540",
   "metadata": {},
   "outputs": [
    {
     "name": "stdout",
     "output_type": "stream",
     "text": [
      "    Book   p1   p2   p3   p4   p5   p6   p7   p8\n",
      "0  book1  3.5    2    5    3  NaN  NaN    5    3\n",
      "1  book2    2  3.5    1    4    4  4.5    2  NaN\n",
      "4  book5    5    2    5    3  NaN    5    5    4\n",
      "5  book6  1.5  3.5    1  4.5  NaN  4.5    4  2.5\n",
      "6  book7  2.5  NaN  NaN    4    4    4    5    3\n",
      "7  book8    2    3  NaN    2    1    4  NaN  NaN\n"
     ]
    }
   ],
   "source": [
    "print(df2)"
   ]
  },
  {
   "cell_type": "code",
   "execution_count": 78,
   "id": "f8c58ba4",
   "metadata": {},
   "outputs": [],
   "source": [
    "manhattan_distance3=distance.cityblock(df2['p1'].astype(float),df2['p4'].astype(float))"
   ]
  },
  {
   "cell_type": "code",
   "execution_count": 79,
   "id": "986933de",
   "metadata": {},
   "outputs": [
    {
     "name": "stdout",
     "output_type": "stream",
     "text": [
      "9.0\n"
     ]
    }
   ],
   "source": [
    "print(manhattan_distance3)"
   ]
  },
  {
   "cell_type": "code",
   "execution_count": 80,
   "id": "77e2cf44",
   "metadata": {},
   "outputs": [],
   "source": [
    "euclidean_distance3=distance.euclidean(df2['p1'].astype(float),df2['p4'].astype(float))"
   ]
  },
  {
   "cell_type": "code",
   "execution_count": 81,
   "id": "76221fbd",
   "metadata": {},
   "outputs": [
    {
     "name": "stdout",
     "output_type": "stream",
     "text": [
      "4.415880433163923\n"
     ]
    }
   ],
   "source": [
    "print(euclidean_distance3)"
   ]
  },
  {
   "cell_type": "code",
   "execution_count": 82,
   "id": "9bb31974",
   "metadata": {},
   "outputs": [
    {
     "data": {
      "text/plain": [
       "4.415880433163923"
      ]
     },
     "execution_count": 82,
     "metadata": {},
     "output_type": "execute_result"
    }
   ],
   "source": [
    "minkowski_distance3=distance.minkowski(df2['p1'].astype(float),df2['p4'].astype(float),p=2)\n",
    "minkowski_distance3"
   ]
  },
  {
   "cell_type": "code",
   "execution_count": 83,
   "id": "1d4e9b04",
   "metadata": {},
   "outputs": [
    {
     "name": "stdout",
     "output_type": "stream",
     "text": [
      "    Book   p1   p2   p3   p4   p5   p6   p7   p8\n",
      "0  book1  3.5    2    5    3  NaN  NaN    5    3\n",
      "1  book2    2  3.5    1    4    4  4.5    2  NaN\n",
      "2  book3  NaN    4    1  4.5    1    4  NaN  NaN\n",
      "3  book4  4.5  NaN    3  NaN    4    5    3    5\n",
      "4  book5    5    2    5    3  NaN    5    5    4\n",
      "5  book6  1.5  3.5    1  4.5  NaN  4.5    4  2.5\n",
      "6  book7  2.5  NaN  NaN    4    4    4    5    3\n",
      "7  book8    2    3  NaN    2    1    4  NaN  NaN\n"
     ]
    }
   ],
   "source": [
    "print(df_subset)"
   ]
  },
  {
   "cell_type": "code",
   "execution_count": 84,
   "id": "9c641eb9",
   "metadata": {},
   "outputs": [],
   "source": [
    "df2=df_subset[df_subset[\"p1\"].notnull()]"
   ]
  },
  {
   "cell_type": "code",
   "execution_count": 85,
   "id": "4c909a9f",
   "metadata": {},
   "outputs": [
    {
     "name": "stdout",
     "output_type": "stream",
     "text": [
      "    Book   p1   p2   p3   p4   p5   p6   p7   p8\n",
      "0  book1  3.5    2    5    3  NaN  NaN    5    3\n",
      "1  book2    2  3.5    1    4    4  4.5    2  NaN\n",
      "3  book4  4.5  NaN    3  NaN    4    5    3    5\n",
      "4  book5    5    2    5    3  NaN    5    5    4\n",
      "5  book6  1.5  3.5    1  4.5  NaN  4.5    4  2.5\n",
      "6  book7  2.5  NaN  NaN    4    4    4    5    3\n",
      "7  book8    2    3  NaN    2    1    4  NaN  NaN\n"
     ]
    }
   ],
   "source": [
    "print(df2)"
   ]
  },
  {
   "cell_type": "code",
   "execution_count": 86,
   "id": "912e6ef3",
   "metadata": {},
   "outputs": [],
   "source": [
    "df2=df2[df2[\"p5\"].notnull()]"
   ]
  },
  {
   "cell_type": "code",
   "execution_count": 87,
   "id": "7f8105f1",
   "metadata": {},
   "outputs": [
    {
     "name": "stdout",
     "output_type": "stream",
     "text": [
      "    Book   p1   p2   p3   p4 p5   p6   p7   p8\n",
      "1  book2    2  3.5    1    4  4  4.5    2  NaN\n",
      "3  book4  4.5  NaN    3  NaN  4    5    3    5\n",
      "6  book7  2.5  NaN  NaN    4  4    4    5    3\n",
      "7  book8    2    3  NaN    2  1    4  NaN  NaN\n"
     ]
    }
   ],
   "source": [
    "print(df2)"
   ]
  },
  {
   "cell_type": "code",
   "execution_count": 88,
   "id": "587f793c",
   "metadata": {},
   "outputs": [],
   "source": [
    "manhattan_distance4=distance.cityblock(df2['p1'].astype(float),df2['p5'].astype(float))"
   ]
  },
  {
   "cell_type": "code",
   "execution_count": 89,
   "id": "4f0ef0ca",
   "metadata": {},
   "outputs": [
    {
     "name": "stdout",
     "output_type": "stream",
     "text": [
      "5.0\n"
     ]
    }
   ],
   "source": [
    "print(manhattan_distance4)"
   ]
  },
  {
   "cell_type": "code",
   "execution_count": 90,
   "id": "c993bdf7",
   "metadata": {},
   "outputs": [],
   "source": [
    "euclidean_distance4=distance.euclidean(df2['p1'].astype(float),df2['p5'].astype(float))"
   ]
  },
  {
   "cell_type": "code",
   "execution_count": 91,
   "id": "f97706b0",
   "metadata": {},
   "outputs": [
    {
     "name": "stdout",
     "output_type": "stream",
     "text": [
      "2.7386127875258306\n"
     ]
    }
   ],
   "source": [
    "print(euclidean_distance4)"
   ]
  },
  {
   "cell_type": "code",
   "execution_count": 92,
   "id": "6503dc64",
   "metadata": {},
   "outputs": [
    {
     "data": {
      "text/plain": [
       "2.7386127875258306"
      ]
     },
     "execution_count": 92,
     "metadata": {},
     "output_type": "execute_result"
    }
   ],
   "source": [
    "minkowski_distance4=distance.minkowski(df2['p1'].astype(float),df2['p5'].astype(float),p=2)\n",
    "minkowski_distance4"
   ]
  },
  {
   "cell_type": "code",
   "execution_count": 93,
   "id": "4706a9e3",
   "metadata": {},
   "outputs": [
    {
     "name": "stdout",
     "output_type": "stream",
     "text": [
      "    Book   p1   p2   p3   p4   p5   p6   p7   p8\n",
      "0  book1  3.5    2    5    3  NaN  NaN    5    3\n",
      "1  book2    2  3.5    1    4    4  4.5    2  NaN\n",
      "2  book3  NaN    4    1  4.5    1    4  NaN  NaN\n",
      "3  book4  4.5  NaN    3  NaN    4    5    3    5\n",
      "4  book5    5    2    5    3  NaN    5    5    4\n",
      "5  book6  1.5  3.5    1  4.5  NaN  4.5    4  2.5\n",
      "6  book7  2.5  NaN  NaN    4    4    4    5    3\n",
      "7  book8    2    3  NaN    2    1    4  NaN  NaN\n"
     ]
    }
   ],
   "source": [
    "print(df_subset)"
   ]
  },
  {
   "cell_type": "code",
   "execution_count": 94,
   "id": "b3ac4891",
   "metadata": {},
   "outputs": [],
   "source": [
    "df2=df_subset[df_subset[\"p1\"].notnull()]"
   ]
  },
  {
   "cell_type": "code",
   "execution_count": 95,
   "id": "d3adb936",
   "metadata": {},
   "outputs": [
    {
     "name": "stdout",
     "output_type": "stream",
     "text": [
      "    Book   p1   p2   p3   p4   p5   p6   p7   p8\n",
      "0  book1  3.5    2    5    3  NaN  NaN    5    3\n",
      "1  book2    2  3.5    1    4    4  4.5    2  NaN\n",
      "3  book4  4.5  NaN    3  NaN    4    5    3    5\n",
      "4  book5    5    2    5    3  NaN    5    5    4\n",
      "5  book6  1.5  3.5    1  4.5  NaN  4.5    4  2.5\n",
      "6  book7  2.5  NaN  NaN    4    4    4    5    3\n",
      "7  book8    2    3  NaN    2    1    4  NaN  NaN\n"
     ]
    }
   ],
   "source": [
    "print(df2)"
   ]
  },
  {
   "cell_type": "code",
   "execution_count": 96,
   "id": "d5daec26",
   "metadata": {},
   "outputs": [],
   "source": [
    "df2=df2[df2[\"p6\"].notnull()]"
   ]
  },
  {
   "cell_type": "code",
   "execution_count": 97,
   "id": "5983da14",
   "metadata": {},
   "outputs": [
    {
     "name": "stdout",
     "output_type": "stream",
     "text": [
      "    Book   p1   p2   p3   p4   p5   p6   p7   p8\n",
      "1  book2    2  3.5    1    4    4  4.5    2  NaN\n",
      "3  book4  4.5  NaN    3  NaN    4    5    3    5\n",
      "4  book5    5    2    5    3  NaN    5    5    4\n",
      "5  book6  1.5  3.5    1  4.5  NaN  4.5    4  2.5\n",
      "6  book7  2.5  NaN  NaN    4    4    4    5    3\n",
      "7  book8    2    3  NaN    2    1    4  NaN  NaN\n"
     ]
    }
   ],
   "source": [
    "print(df2)"
   ]
  },
  {
   "cell_type": "code",
   "execution_count": 98,
   "id": "56f167e1",
   "metadata": {},
   "outputs": [],
   "source": [
    "manhattan_distance5=distance.cityblock(df2['p1'].astype(float),df2['p6'].astype(float))"
   ]
  },
  {
   "cell_type": "code",
   "execution_count": 99,
   "id": "c4e6a7e8",
   "metadata": {},
   "outputs": [
    {
     "name": "stdout",
     "output_type": "stream",
     "text": [
      "9.5\n"
     ]
    }
   ],
   "source": [
    "print(manhattan_distance5)"
   ]
  },
  {
   "cell_type": "code",
   "execution_count": 100,
   "id": "90bc82fe",
   "metadata": {},
   "outputs": [],
   "source": [
    "euclidean_distance5=distance.euclidean(df2['p1'].astype(float),df2['p6'].astype(float))"
   ]
  },
  {
   "cell_type": "code",
   "execution_count": 101,
   "id": "e22d0128",
   "metadata": {},
   "outputs": [
    {
     "name": "stdout",
     "output_type": "stream",
     "text": [
      "4.663689526544408\n"
     ]
    }
   ],
   "source": [
    "print(euclidean_distance5)"
   ]
  },
  {
   "cell_type": "code",
   "execution_count": 102,
   "id": "63fc8df6",
   "metadata": {},
   "outputs": [
    {
     "data": {
      "text/plain": [
       "4.663689526544408"
      ]
     },
     "execution_count": 102,
     "metadata": {},
     "output_type": "execute_result"
    }
   ],
   "source": [
    "minkowski_distance5=distance.minkowski(df2['p1'].astype(float),df2['p6'].astype(float),p=2)\n",
    "minkowski_distance5"
   ]
  },
  {
   "cell_type": "code",
   "execution_count": 103,
   "id": "38554627",
   "metadata": {},
   "outputs": [
    {
     "name": "stdout",
     "output_type": "stream",
     "text": [
      "    Book   p1   p2   p3   p4   p5   p6   p7   p8\n",
      "0  book1  3.5    2    5    3  NaN  NaN    5    3\n",
      "1  book2    2  3.5    1    4    4  4.5    2  NaN\n",
      "2  book3  NaN    4    1  4.5    1    4  NaN  NaN\n",
      "3  book4  4.5  NaN    3  NaN    4    5    3    5\n",
      "4  book5    5    2    5    3  NaN    5    5    4\n",
      "5  book6  1.5  3.5    1  4.5  NaN  4.5    4  2.5\n",
      "6  book7  2.5  NaN  NaN    4    4    4    5    3\n",
      "7  book8    2    3  NaN    2    1    4  NaN  NaN\n"
     ]
    }
   ],
   "source": [
    "print(df_subset)"
   ]
  },
  {
   "cell_type": "code",
   "execution_count": 104,
   "id": "914f05b5",
   "metadata": {},
   "outputs": [],
   "source": [
    "df2=df_subset[df_subset[\"p1\"].notnull()]"
   ]
  },
  {
   "cell_type": "code",
   "execution_count": 105,
   "id": "bc889128",
   "metadata": {},
   "outputs": [
    {
     "name": "stdout",
     "output_type": "stream",
     "text": [
      "    Book   p1   p2   p3   p4   p5   p6   p7   p8\n",
      "0  book1  3.5    2    5    3  NaN  NaN    5    3\n",
      "1  book2    2  3.5    1    4    4  4.5    2  NaN\n",
      "3  book4  4.5  NaN    3  NaN    4    5    3    5\n",
      "4  book5    5    2    5    3  NaN    5    5    4\n",
      "5  book6  1.5  3.5    1  4.5  NaN  4.5    4  2.5\n",
      "6  book7  2.5  NaN  NaN    4    4    4    5    3\n",
      "7  book8    2    3  NaN    2    1    4  NaN  NaN\n"
     ]
    }
   ],
   "source": [
    "print(df2)"
   ]
  },
  {
   "cell_type": "code",
   "execution_count": 106,
   "id": "deca0010",
   "metadata": {},
   "outputs": [],
   "source": [
    "df2=df2[df2[\"p7\"].notnull()]"
   ]
  },
  {
   "cell_type": "code",
   "execution_count": 107,
   "id": "cb69be92",
   "metadata": {},
   "outputs": [
    {
     "name": "stdout",
     "output_type": "stream",
     "text": [
      "    Book   p1   p2   p3   p4   p5   p6 p7   p8\n",
      "0  book1  3.5    2    5    3  NaN  NaN  5    3\n",
      "1  book2    2  3.5    1    4    4  4.5  2  NaN\n",
      "3  book4  4.5  NaN    3  NaN    4    5  3    5\n",
      "4  book5    5    2    5    3  NaN    5  5    4\n",
      "5  book6  1.5  3.5    1  4.5  NaN  4.5  4  2.5\n",
      "6  book7  2.5  NaN  NaN    4    4    4  5    3\n"
     ]
    }
   ],
   "source": [
    "print(df2)"
   ]
  },
  {
   "cell_type": "code",
   "execution_count": 108,
   "id": "4ac78a0c",
   "metadata": {},
   "outputs": [],
   "source": [
    "manhattan_distance6=distance.cityblock(df2['p1'].astype(float),df2['p7'].astype(float))"
   ]
  },
  {
   "cell_type": "code",
   "execution_count": 109,
   "id": "4a2040df",
   "metadata": {},
   "outputs": [
    {
     "name": "stdout",
     "output_type": "stream",
     "text": [
      "8.0\n"
     ]
    }
   ],
   "source": [
    "print(manhattan_distance6)"
   ]
  },
  {
   "cell_type": "code",
   "execution_count": 110,
   "id": "8883ac8a",
   "metadata": {},
   "outputs": [],
   "source": [
    "euclidean_distance6=distance.euclidean(df2['p1'].astype(float),df2['p7'].astype(float))"
   ]
  },
  {
   "cell_type": "code",
   "execution_count": 111,
   "id": "4a85c75e",
   "metadata": {},
   "outputs": [
    {
     "name": "stdout",
     "output_type": "stream",
     "text": [
      "4.12310562561766\n"
     ]
    }
   ],
   "source": [
    "print(euclidean_distance6)"
   ]
  },
  {
   "cell_type": "code",
   "execution_count": 112,
   "id": "993f5ffc",
   "metadata": {},
   "outputs": [
    {
     "data": {
      "text/plain": [
       "4.12310562561766"
      ]
     },
     "execution_count": 112,
     "metadata": {},
     "output_type": "execute_result"
    }
   ],
   "source": [
    "minkowski_distance6=distance.minkowski(df2['p1'].astype(float),df2['p7'].astype(float),p=2)\n",
    "minkowski_distance6"
   ]
  },
  {
   "cell_type": "code",
   "execution_count": 113,
   "id": "ef0127a4",
   "metadata": {},
   "outputs": [
    {
     "name": "stdout",
     "output_type": "stream",
     "text": [
      "    Book   p1   p2   p3   p4   p5   p6   p7   p8\n",
      "0  book1  3.5    2    5    3  NaN  NaN    5    3\n",
      "1  book2    2  3.5    1    4    4  4.5    2  NaN\n",
      "2  book3  NaN    4    1  4.5    1    4  NaN  NaN\n",
      "3  book4  4.5  NaN    3  NaN    4    5    3    5\n",
      "4  book5    5    2    5    3  NaN    5    5    4\n",
      "5  book6  1.5  3.5    1  4.5  NaN  4.5    4  2.5\n",
      "6  book7  2.5  NaN  NaN    4    4    4    5    3\n",
      "7  book8    2    3  NaN    2    1    4  NaN  NaN\n"
     ]
    }
   ],
   "source": [
    "print(df_subset)"
   ]
  },
  {
   "cell_type": "code",
   "execution_count": 114,
   "id": "d097bcff",
   "metadata": {},
   "outputs": [],
   "source": [
    "df2=df_subset[df_subset[\"p1\"].notnull()]"
   ]
  },
  {
   "cell_type": "code",
   "execution_count": 115,
   "id": "9b6a59b5",
   "metadata": {},
   "outputs": [
    {
     "name": "stdout",
     "output_type": "stream",
     "text": [
      "    Book   p1   p2   p3   p4   p5   p6   p7   p8\n",
      "0  book1  3.5    2    5    3  NaN  NaN    5    3\n",
      "1  book2    2  3.5    1    4    4  4.5    2  NaN\n",
      "3  book4  4.5  NaN    3  NaN    4    5    3    5\n",
      "4  book5    5    2    5    3  NaN    5    5    4\n",
      "5  book6  1.5  3.5    1  4.5  NaN  4.5    4  2.5\n",
      "6  book7  2.5  NaN  NaN    4    4    4    5    3\n",
      "7  book8    2    3  NaN    2    1    4  NaN  NaN\n"
     ]
    }
   ],
   "source": [
    "print(df2)"
   ]
  },
  {
   "cell_type": "code",
   "execution_count": 116,
   "id": "77ea6964",
   "metadata": {},
   "outputs": [],
   "source": [
    "df2=df2[df2[\"p8\"].notnull()]"
   ]
  },
  {
   "cell_type": "code",
   "execution_count": 117,
   "id": "35c6fff6",
   "metadata": {},
   "outputs": [
    {
     "name": "stdout",
     "output_type": "stream",
     "text": [
      "    Book   p1   p2   p3   p4   p5   p6 p7   p8\n",
      "0  book1  3.5    2    5    3  NaN  NaN  5    3\n",
      "3  book4  4.5  NaN    3  NaN    4    5  3    5\n",
      "4  book5    5    2    5    3  NaN    5  5    4\n",
      "5  book6  1.5  3.5    1  4.5  NaN  4.5  4  2.5\n",
      "6  book7  2.5  NaN  NaN    4    4    4  5    3\n"
     ]
    }
   ],
   "source": [
    "print(df2)"
   ]
  },
  {
   "cell_type": "code",
   "execution_count": 118,
   "id": "882c1914",
   "metadata": {},
   "outputs": [],
   "source": [
    "manhattan_distance7=distance.cityblock(df2['p1'].astype(float),df2['p8'].astype(float))"
   ]
  },
  {
   "cell_type": "code",
   "execution_count": 119,
   "id": "35a3a477",
   "metadata": {},
   "outputs": [
    {
     "name": "stdout",
     "output_type": "stream",
     "text": [
      "3.5\n"
     ]
    }
   ],
   "source": [
    "print(manhattan_distance7)"
   ]
  },
  {
   "cell_type": "code",
   "execution_count": 122,
   "id": "97f00e69",
   "metadata": {},
   "outputs": [],
   "source": [
    "euclidean_distance7=distance.euclidean(df2['p1'].astype(float),df2['p8'].astype(float))"
   ]
  },
  {
   "cell_type": "code",
   "execution_count": 123,
   "id": "dcf2d807",
   "metadata": {},
   "outputs": [
    {
     "name": "stdout",
     "output_type": "stream",
     "text": [
      "1.6583123951777\n"
     ]
    }
   ],
   "source": [
    "print(euclidean_distance7)"
   ]
  },
  {
   "cell_type": "code",
   "execution_count": 124,
   "id": "e4515c39",
   "metadata": {},
   "outputs": [
    {
     "data": {
      "text/plain": [
       "3.5"
      ]
     },
     "execution_count": 124,
     "metadata": {},
     "output_type": "execute_result"
    }
   ],
   "source": [
    "minkowski_distance7=distance.minkowski(df2['p1'].astype(float),df2['p8'].astype(float),p=1)\n",
    "minkowski_distance7"
   ]
  },
  {
   "cell_type": "code",
   "execution_count": 125,
   "id": "36429e0f",
   "metadata": {},
   "outputs": [
    {
     "data": {
      "text/plain": [
       "1.3342008243609724"
      ]
     },
     "execution_count": 125,
     "metadata": {},
     "output_type": "execute_result"
    }
   ],
   "source": [
    "minkowski_distance7=distance.minkowski(df2['p1'].astype(float),df2['p8'].astype(float),p=3)\n",
    "minkowski_distance7"
   ]
  },
  {
   "cell_type": "code",
   "execution_count": 126,
   "id": "08177d83",
   "metadata": {},
   "outputs": [
    {
     "data": {
      "text/plain": [
       "1.6583123951777"
      ]
     },
     "execution_count": 126,
     "metadata": {},
     "output_type": "execute_result"
    }
   ],
   "source": [
    "minkowski_distance7=distance.minkowski(df2['p1'].astype(float),df2['p8'].astype(float),p=2)\n",
    "minkowski_distance7"
   ]
  },
  {
   "cell_type": "code",
   "execution_count": 127,
   "id": "a35a0049",
   "metadata": {},
   "outputs": [
    {
     "name": "stdout",
     "output_type": "stream",
     "text": [
      "Distance Manhattan \t Euclidean \t\t Minkowski\n",
      "p1-p2 \t 9.0 \t\t 4.301162633521313 \t 4.301162633521313\n",
      "p1-p3 \t 4.5 \t\t 2.3979157616563596 \t 2.3979157616563596\n",
      "p1-p4 \t 9.0 \t\t 4.415880433163923 \t 4.415880433163923\n",
      "p1-p5 \t 5.0 \t\t 2.7386127875258306 \t 2.7386127875258306\n",
      "p1-p6 \t 9.5 \t\t 4.663689526544408 \t 4.663689526544408\n",
      "p1-p7 \t 8.0 \t\t 4.12310562561766 \t 4.12310562561766\n",
      "p1-p8 \t 3.5 \t\t 1.6583123951777 \t 1.6583123951777\n"
     ]
    }
   ],
   "source": [
    "print('Distance', 'Manhattan', '\\t','Euclidean', '\\t\\t', 'Minkowski')\n",
    "print('p1-p2', '\\t' ,manhattan_distance1, '\\t\\t' ,euclidean_distance1, '\\t' ,minkowski_distance1)\n",
    "print('p1-p3', '\\t' ,manhattan_distance2, '\\t\\t' ,euclidean_distance2, '\\t' ,minkowski_distance2)\n",
    "print('p1-p4', '\\t' ,manhattan_distance3, '\\t\\t' ,euclidean_distance3, '\\t' ,minkowski_distance3)\n",
    "print('p1-p5', '\\t' ,manhattan_distance4, '\\t\\t' ,euclidean_distance4, '\\t' ,minkowski_distance4)\n",
    "print('p1-p6', '\\t' ,manhattan_distance5, '\\t\\t' ,euclidean_distance5, '\\t' ,minkowski_distance5)\n",
    "print('p1-p7', '\\t' ,manhattan_distance6, '\\t\\t' ,euclidean_distance6, '\\t' ,minkowski_distance6)\n",
    "print('p1-p8', '\\t' ,manhattan_distance7, '\\t\\t' ,euclidean_distance7, '\\t' ,minkowski_distance7)"
   ]
  },
  {
   "cell_type": "code",
   "execution_count": null,
   "id": "ddc9ef4b",
   "metadata": {},
   "outputs": [],
   "source": []
  }
 ],
 "metadata": {
  "kernelspec": {
   "display_name": "Python 3",
   "language": "python",
   "name": "python3"
  },
  "language_info": {
   "codemirror_mode": {
    "name": "ipython",
    "version": 3
   },
   "file_extension": ".py",
   "mimetype": "text/x-python",
   "name": "python",
   "nbconvert_exporter": "python",
   "pygments_lexer": "ipython3",
   "version": "3.8.8"
  }
 },
 "nbformat": 4,
 "nbformat_minor": 5
}
