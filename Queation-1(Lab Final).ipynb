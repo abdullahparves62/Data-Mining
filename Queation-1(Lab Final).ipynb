{
 "cells": [
  {
   "cell_type": "code",
   "execution_count": 21,
   "id": "9a9e9b5d",
   "metadata": {},
   "outputs": [],
   "source": [
    "dataset=[['3','4','5'],\n",
    "        ['2','3','5'],\n",
    "        ['6','1','2','5'],\n",
    "        ['2','5'],\n",
    "        ['1','3','6'],\n",
    "        ['5','6','7','9'],\n",
    "        ['4','6','2','1'],\n",
    "        ['1','2','3','4'],\n",
    "        ['4','5','6','9'],\n",
    "        ['1','6','7','9']]\n",
    "         "
   ]
  },
  {
   "cell_type": "code",
   "execution_count": 22,
   "id": "dcb6124c",
   "metadata": {},
   "outputs": [],
   "source": [
    "from mlxtend.preprocessing import TransactionEncoder"
   ]
  },
  {
   "cell_type": "code",
   "execution_count": 23,
   "id": "9b9c8b69",
   "metadata": {},
   "outputs": [],
   "source": [
    "encoder = TransactionEncoder().fit(dataset)"
   ]
  },
  {
   "cell_type": "code",
   "execution_count": 24,
   "id": "d790a900",
   "metadata": {},
   "outputs": [],
   "source": [
    "onehot = encoder.transform(dataset)"
   ]
  },
  {
   "cell_type": "code",
   "execution_count": 25,
   "id": "c0e559c8",
   "metadata": {},
   "outputs": [],
   "source": [
    "import pandas as pd"
   ]
  },
  {
   "cell_type": "code",
   "execution_count": 26,
   "id": "ec0131d1",
   "metadata": {},
   "outputs": [],
   "source": [
    "onehot=pd.DataFrame(onehot,columns=encoder.columns_)"
   ]
  },
  {
   "cell_type": "code",
   "execution_count": 27,
   "id": "33de0866",
   "metadata": {},
   "outputs": [
    {
     "data": {
      "text/html": [
       "<div>\n",
       "<style scoped>\n",
       "    .dataframe tbody tr th:only-of-type {\n",
       "        vertical-align: middle;\n",
       "    }\n",
       "\n",
       "    .dataframe tbody tr th {\n",
       "        vertical-align: top;\n",
       "    }\n",
       "\n",
       "    .dataframe thead th {\n",
       "        text-align: right;\n",
       "    }\n",
       "</style>\n",
       "<table border=\"1\" class=\"dataframe\">\n",
       "  <thead>\n",
       "    <tr style=\"text-align: right;\">\n",
       "      <th></th>\n",
       "      <th>1</th>\n",
       "      <th>2</th>\n",
       "      <th>3</th>\n",
       "      <th>4</th>\n",
       "      <th>5</th>\n",
       "      <th>6</th>\n",
       "      <th>7</th>\n",
       "      <th>9</th>\n",
       "    </tr>\n",
       "  </thead>\n",
       "  <tbody>\n",
       "    <tr>\n",
       "      <th>0</th>\n",
       "      <td>False</td>\n",
       "      <td>False</td>\n",
       "      <td>True</td>\n",
       "      <td>True</td>\n",
       "      <td>True</td>\n",
       "      <td>False</td>\n",
       "      <td>False</td>\n",
       "      <td>False</td>\n",
       "    </tr>\n",
       "    <tr>\n",
       "      <th>1</th>\n",
       "      <td>False</td>\n",
       "      <td>True</td>\n",
       "      <td>True</td>\n",
       "      <td>False</td>\n",
       "      <td>True</td>\n",
       "      <td>False</td>\n",
       "      <td>False</td>\n",
       "      <td>False</td>\n",
       "    </tr>\n",
       "    <tr>\n",
       "      <th>2</th>\n",
       "      <td>True</td>\n",
       "      <td>True</td>\n",
       "      <td>False</td>\n",
       "      <td>False</td>\n",
       "      <td>True</td>\n",
       "      <td>True</td>\n",
       "      <td>False</td>\n",
       "      <td>False</td>\n",
       "    </tr>\n",
       "    <tr>\n",
       "      <th>3</th>\n",
       "      <td>False</td>\n",
       "      <td>True</td>\n",
       "      <td>False</td>\n",
       "      <td>False</td>\n",
       "      <td>True</td>\n",
       "      <td>False</td>\n",
       "      <td>False</td>\n",
       "      <td>False</td>\n",
       "    </tr>\n",
       "    <tr>\n",
       "      <th>4</th>\n",
       "      <td>True</td>\n",
       "      <td>False</td>\n",
       "      <td>True</td>\n",
       "      <td>False</td>\n",
       "      <td>False</td>\n",
       "      <td>True</td>\n",
       "      <td>False</td>\n",
       "      <td>False</td>\n",
       "    </tr>\n",
       "    <tr>\n",
       "      <th>5</th>\n",
       "      <td>False</td>\n",
       "      <td>False</td>\n",
       "      <td>False</td>\n",
       "      <td>False</td>\n",
       "      <td>True</td>\n",
       "      <td>True</td>\n",
       "      <td>True</td>\n",
       "      <td>True</td>\n",
       "    </tr>\n",
       "    <tr>\n",
       "      <th>6</th>\n",
       "      <td>True</td>\n",
       "      <td>True</td>\n",
       "      <td>False</td>\n",
       "      <td>True</td>\n",
       "      <td>False</td>\n",
       "      <td>True</td>\n",
       "      <td>False</td>\n",
       "      <td>False</td>\n",
       "    </tr>\n",
       "    <tr>\n",
       "      <th>7</th>\n",
       "      <td>True</td>\n",
       "      <td>True</td>\n",
       "      <td>True</td>\n",
       "      <td>True</td>\n",
       "      <td>False</td>\n",
       "      <td>False</td>\n",
       "      <td>False</td>\n",
       "      <td>False</td>\n",
       "    </tr>\n",
       "    <tr>\n",
       "      <th>8</th>\n",
       "      <td>False</td>\n",
       "      <td>False</td>\n",
       "      <td>False</td>\n",
       "      <td>True</td>\n",
       "      <td>True</td>\n",
       "      <td>True</td>\n",
       "      <td>False</td>\n",
       "      <td>True</td>\n",
       "    </tr>\n",
       "    <tr>\n",
       "      <th>9</th>\n",
       "      <td>True</td>\n",
       "      <td>False</td>\n",
       "      <td>False</td>\n",
       "      <td>False</td>\n",
       "      <td>False</td>\n",
       "      <td>True</td>\n",
       "      <td>True</td>\n",
       "      <td>True</td>\n",
       "    </tr>\n",
       "  </tbody>\n",
       "</table>\n",
       "</div>"
      ],
      "text/plain": [
       "       1      2      3      4      5      6      7      9\n",
       "0  False  False   True   True   True  False  False  False\n",
       "1  False   True   True  False   True  False  False  False\n",
       "2   True   True  False  False   True   True  False  False\n",
       "3  False   True  False  False   True  False  False  False\n",
       "4   True  False   True  False  False   True  False  False\n",
       "5  False  False  False  False   True   True   True   True\n",
       "6   True   True  False   True  False   True  False  False\n",
       "7   True   True   True   True  False  False  False  False\n",
       "8  False  False  False   True   True   True  False   True\n",
       "9   True  False  False  False  False   True   True   True"
      ]
     },
     "execution_count": 27,
     "metadata": {},
     "output_type": "execute_result"
    }
   ],
   "source": [
    "onehot"
   ]
  },
  {
   "cell_type": "code",
   "execution_count": 28,
   "id": "c507dd0a",
   "metadata": {},
   "outputs": [],
   "source": [
    "from mlxtend.frequent_patterns import apriori"
   ]
  },
  {
   "cell_type": "code",
   "execution_count": 29,
   "id": "bedae578",
   "metadata": {},
   "outputs": [],
   "source": [
    "frequent_itemset=apriori(onehot,min_support=0.06,max_len=3,use_colnames=True)"
   ]
  },
  {
   "cell_type": "code",
   "execution_count": 30,
   "id": "1eee0c78",
   "metadata": {},
   "outputs": [
    {
     "name": "stdout",
     "output_type": "stream",
     "text": [
      "    support   itemsets\n",
      "0       0.5        (1)\n",
      "1       0.5        (2)\n",
      "2       0.4        (3)\n",
      "3       0.4        (4)\n",
      "4       0.6        (5)\n",
      "5       0.6        (6)\n",
      "6       0.2        (7)\n",
      "7       0.3        (9)\n",
      "8       0.3     (1, 2)\n",
      "9       0.2     (1, 3)\n",
      "10      0.2     (1, 4)\n",
      "11      0.1     (1, 5)\n",
      "12      0.4     (1, 6)\n",
      "13      0.1     (1, 7)\n",
      "14      0.1     (1, 9)\n",
      "15      0.2     (3, 2)\n",
      "16      0.2     (4, 2)\n",
      "17      0.3     (5, 2)\n",
      "18      0.2     (6, 2)\n",
      "19      0.2     (4, 3)\n",
      "20      0.2     (3, 5)\n",
      "21      0.1     (3, 6)\n",
      "22      0.2     (4, 5)\n",
      "23      0.2     (4, 6)\n",
      "24      0.1     (4, 9)\n",
      "25      0.3     (5, 6)\n",
      "26      0.1     (5, 7)\n",
      "27      0.2     (5, 9)\n",
      "28      0.2     (7, 6)\n",
      "29      0.3     (9, 6)\n",
      "30      0.2     (7, 9)\n",
      "31      0.1  (1, 3, 2)\n",
      "32      0.2  (1, 2, 4)\n",
      "33      0.1  (1, 5, 2)\n",
      "34      0.2  (1, 6, 2)\n",
      "35      0.1  (1, 3, 4)\n",
      "36      0.1  (1, 3, 6)\n",
      "37      0.1  (1, 6, 4)\n",
      "38      0.1  (1, 5, 6)\n",
      "39      0.1  (1, 7, 6)\n",
      "40      0.1  (1, 9, 6)\n",
      "41      0.1  (1, 7, 9)\n",
      "42      0.1  (4, 3, 2)\n",
      "43      0.1  (3, 5, 2)\n",
      "44      0.1  (4, 6, 2)\n",
      "45      0.1  (6, 5, 2)\n",
      "46      0.1  (4, 3, 5)\n",
      "47      0.1  (4, 5, 6)\n",
      "48      0.1  (4, 5, 9)\n",
      "49      0.1  (4, 9, 6)\n",
      "50      0.1  (5, 7, 6)\n",
      "51      0.2  (5, 9, 6)\n",
      "52      0.1  (5, 7, 9)\n",
      "53      0.2  (9, 7, 6)\n"
     ]
    }
   ],
   "source": [
    "print(frequent_itemset)"
   ]
  },
  {
   "cell_type": "code",
   "execution_count": 31,
   "id": "0707df82",
   "metadata": {},
   "outputs": [],
   "source": [
    "from mlxtend.frequent_patterns import association_rules"
   ]
  },
  {
   "cell_type": "code",
   "execution_count": 32,
   "id": "a1cf41c8",
   "metadata": {},
   "outputs": [],
   "source": [
    "rules=association_rules(frequent_itemset,metric=\"support\",min_threshold=0)"
   ]
  },
  {
   "cell_type": "code",
   "execution_count": 33,
   "id": "805493eb",
   "metadata": {},
   "outputs": [
    {
     "name": "stdout",
     "output_type": "stream",
     "text": [
      "    antecedents consequents  antecedent support  consequent support  support  \\\n",
      "0           (1)         (2)                 0.5                 0.5      0.3   \n",
      "1           (2)         (1)                 0.5                 0.5      0.3   \n",
      "2           (1)         (3)                 0.5                 0.4      0.2   \n",
      "3           (3)         (1)                 0.4                 0.5      0.2   \n",
      "4           (1)         (4)                 0.5                 0.4      0.2   \n",
      "..          ...         ...                 ...                 ...      ...   \n",
      "179      (6, 9)         (7)                 0.3                 0.2      0.2   \n",
      "180      (7, 6)         (9)                 0.2                 0.3      0.2   \n",
      "181         (9)      (7, 6)                 0.3                 0.2      0.2   \n",
      "182         (7)      (6, 9)                 0.2                 0.3      0.2   \n",
      "183         (6)      (7, 9)                 0.6                 0.2      0.2   \n",
      "\n",
      "     confidence      lift  leverage  conviction  \n",
      "0      0.600000  1.200000      0.05        1.25  \n",
      "1      0.600000  1.200000      0.05        1.25  \n",
      "2      0.400000  1.000000      0.00        1.00  \n",
      "3      0.500000  1.000000      0.00        1.00  \n",
      "4      0.400000  1.000000      0.00        1.00  \n",
      "..          ...       ...       ...         ...  \n",
      "179    0.666667  3.333333      0.14        2.40  \n",
      "180    1.000000  3.333333      0.14         inf  \n",
      "181    0.666667  3.333333      0.14        2.40  \n",
      "182    1.000000  3.333333      0.14         inf  \n",
      "183    0.333333  1.666667      0.08        1.20  \n",
      "\n",
      "[184 rows x 9 columns]\n"
     ]
    }
   ],
   "source": [
    "print(rules)"
   ]
  },
  {
   "cell_type": "code",
   "execution_count": 20,
   "id": "cc14cbad",
   "metadata": {},
   "outputs": [],
   "source": [
    "from mlxtend.frequent_patterns import apriori"
   ]
  },
  {
   "cell_type": "code",
   "execution_count": 34,
   "id": "a0eda71e",
   "metadata": {},
   "outputs": [],
   "source": [
    "frequent_itemset=apriori(onehot,min_support=0.001,max_len=2,use_colnames=True)"
   ]
  },
  {
   "cell_type": "code",
   "execution_count": 35,
   "id": "91a85f23",
   "metadata": {},
   "outputs": [
    {
     "name": "stdout",
     "output_type": "stream",
     "text": [
      "    support itemsets\n",
      "0       0.5      (1)\n",
      "1       0.5      (2)\n",
      "2       0.4      (3)\n",
      "3       0.4      (4)\n",
      "4       0.6      (5)\n",
      "5       0.6      (6)\n",
      "6       0.2      (7)\n",
      "7       0.3      (9)\n",
      "8       0.3   (1, 2)\n",
      "9       0.2   (1, 3)\n",
      "10      0.2   (1, 4)\n",
      "11      0.1   (1, 5)\n",
      "12      0.4   (1, 6)\n",
      "13      0.1   (1, 7)\n",
      "14      0.1   (1, 9)\n",
      "15      0.2   (3, 2)\n",
      "16      0.2   (4, 2)\n",
      "17      0.3   (5, 2)\n",
      "18      0.2   (6, 2)\n",
      "19      0.2   (4, 3)\n",
      "20      0.2   (3, 5)\n",
      "21      0.1   (3, 6)\n",
      "22      0.2   (4, 5)\n",
      "23      0.2   (4, 6)\n",
      "24      0.1   (4, 9)\n",
      "25      0.3   (5, 6)\n",
      "26      0.1   (5, 7)\n",
      "27      0.2   (5, 9)\n",
      "28      0.2   (7, 6)\n",
      "29      0.3   (9, 6)\n",
      "30      0.2   (7, 9)\n"
     ]
    }
   ],
   "source": [
    "print(frequent_itemset)"
   ]
  },
  {
   "cell_type": "code",
   "execution_count": null,
   "id": "766b3ba3",
   "metadata": {},
   "outputs": [],
   "source": []
  },
  {
   "cell_type": "code",
   "execution_count": null,
   "id": "83764785",
   "metadata": {},
   "outputs": [],
   "source": []
  }
 ],
 "metadata": {
  "kernelspec": {
   "display_name": "Python 3",
   "language": "python",
   "name": "python3"
  },
  "language_info": {
   "codemirror_mode": {
    "name": "ipython",
    "version": 3
   },
   "file_extension": ".py",
   "mimetype": "text/x-python",
   "name": "python",
   "nbconvert_exporter": "python",
   "pygments_lexer": "ipython3",
   "version": "3.8.8"
  }
 },
 "nbformat": 4,
 "nbformat_minor": 5
}
